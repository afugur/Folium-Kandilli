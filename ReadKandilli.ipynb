import requests
import pandas as pd
from bs4 import BeautifulSoup
import folium



html = "http://www.koeri.boun.edu.tr/scripts/lst0.asp"
cont = requests.get(html)



soup = BeautifulSoup(cont.content,"html.parser")

table = soup.find("pre").contents[0]



# %%

file1 = open("Kandilli.txt","w")  

file1.writelines(table)
file1.close()

# %% Read Txt


file2 = open("Kandilli.txt","r")
text = file2.readlines()
print(file2)
file2.close()


# %%

basliklar = text[10]

basliklar = basliklar.split()


# %%

data = []

for i in range(14,1016,2):
    veriler = text[i]
    veriler = veriler.split()
    data.append(veriler)


del data[500]

# %%
Kandilli_df = pd.DataFrame(data)

# %%

for i in range(9):
    Kandilli_df[basliklar[i]] = Kandilli_df[i]


for i in range(13):
    del Kandilli_df[i]


import geocoder
g = geocoder.ip('me')
my_lat = g.lat
my_long = g.lng    

sehir = g.city


# %% Folium




m = folium.Map(location=[39.9334, 32.8597],
    zoom_start=6) 

tooltip = "Find Me"

folium.Marker([my_lat, my_long], folium.Popup('<b>Your Location:</b>'+sehir +"\n"
              + '<b>Enlem :</b>' + str(my_lat)  + "  "
              + '<b>Enlem :</b>' + "\n" 
              +str(my_long),max_width= 500,min_width=100), tooltip=tooltip,
              icon=folium.Icon(color='green')).add_to(m)


Tarih = Kandilli_df["Tarih"].values
Saat = Kandilli_df["Saat"].values
Enlem = Kandilli_df["Enlem(N)"].values
Boylam = Kandilli_df['Boylam(E)'].values
Derinlik = Kandilli_df['Derinlik(km)'].values
Md = Kandilli_df['MD'].values
Ml = Kandilli_df['ML'].values
Mw = Kandilli_df['Mw'].values
Yer = Kandilli_df["Yer"].values

html = '<a href= "https://www.gmail.com/" target="_blank">Depremi Hissedim</a>'

for i in range(len(Kandilli_df)):
    folium.Marker([Enlem[i],Boylam[i]], popup=folium.Popup('<b>'+'Yer: '+'</b>'+ Yer[i] + "\n" + '<b>'+
                  'Derinlik: '+'</b>' + str(Derinlik[i]) + "\n"  + 
                  '<b>'+ 'Tarih '+'</b>' + Tarih[i]  + "\n" +
                  '<b>'+ 'Saat: ' + '</b>' + Saat[i] +  "\n" + 
                  '<b>'+ 'MD: '+'</b>' + Md[i] +  "\n" + 
                  '<b>'+ 'ML '+'</b>' + Ml[i] + "\n"  +
                    '<b>'+ 'MW '+'</b>' + Mw[i] + "\n"+


                            html                          

                                            ,                                 
                    max_width= 300,min_width=100),
                    icon=folium.Icon(color='red',
                    icon='info-sign')).add_to(m)


m

    
